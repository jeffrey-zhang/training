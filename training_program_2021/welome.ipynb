{
 "cells": [
  {
   "cell_type": "code",
   "execution_count": 15,
   "metadata": {},
   "outputs": [
    {
     "data": {
      "text/plain": [
       "'jason'"
      ]
     },
     "execution_count": 15,
     "metadata": {},
     "output_type": "execute_result"
    }
   ],
   "source": [
    "d = {'name': 'jason','age':20}\n",
    "d.get('name')"
   ]
  },
  {
   "cell_type": "code",
   "execution_count": 16,
   "metadata": {},
   "outputs": [
    {
     "name": "stdout",
     "output_type": "stream",
     "text": [
      "1\n",
      "2\n",
      "3\n",
      "4\n",
      "5\n",
      "6\n"
     ]
    }
   ],
   "source": [
    "l = [1,2,3,4,5,6]\n",
    "for index, item in enumerate(l):\n",
    "    if index <= 5:\n",
    "        print(item)"
   ]
  },
  {
   "cell_type": "code",
   "execution_count": 17,
   "metadata": {},
   "outputs": [
    {
     "name": "stdout",
     "output_type": "stream",
     "text": [
      "[{'name': 'jason', 'dob': '2000-01-01', 'gender': 'male'}, {'name': 'mike', 'dob': '1999-01-01', 'gender': 'male'}, {'name': 'nancy', 'dob': '2001-02-01', 'gender': 'female'}]\n",
      "[{'name': 'jason', 'dob': '2000-01-01', 'gender': 'male'}, {'name': 'mike', 'dob': '1999-01-01', 'gender': 'male'}, {'name': 'nancy', 'dob': '2001-02-01', 'gender': 'female'}]\n"
     ]
    }
   ],
   "source": [
    "attributes = ['name','dob','gender']\n",
    "values = [['jason','2000-01-01','male'],\n",
    "    ['mike','1999-01-01','male'],\n",
    "    ['nancy','2001-02-01','female']\n",
    "]\n",
    "\n",
    "#method1\n",
    "l = []\n",
    "for val in values:\n",
    "    d = {}\n",
    "    for index, key in enumerate(attributes):\n",
    "        d[key] = val[index]\n",
    "    l.append(d)\n",
    "print(l)\n",
    "\n",
    "#method2\n",
    "print([dict(zip(attributes,val)) for val in values])\n"
   ]
  },
  {
   "cell_type": "code",
   "execution_count": 18,
   "metadata": {},
   "outputs": [
    {
     "name": "stdout",
     "output_type": "stream",
     "text": [
      "Got a message:Hello, world\n"
     ]
    }
   ],
   "source": [
    "def my_fun(message):\n",
    "    print('Got a message:{}'.format(message))\n",
    "\n",
    "my_fun('Hello, world')"
   ]
  },
  {
   "cell_type": "code",
   "execution_count": 19,
   "metadata": {},
   "outputs": [
    {
     "name": "stdout",
     "output_type": "stream",
     "text": [
      "largest element is :56\n"
     ]
    }
   ],
   "source": [
    "def find_largest_element(l):\n",
    "    if not isinstance(l,list):\n",
    "        print('input is not type of list')\n",
    "    if len(l) == 0:\n",
    "        print('input is empty')\n",
    "    largest_element = l[0]\n",
    "    for item in l:\n",
    "        if item > largest_element:\n",
    "            largest_element = item\n",
    "    print('largest element is :{}'.format(largest_element))\n",
    "\n",
    "find_largest_element([8,0,18,3,56])"
   ]
  },
  {
   "cell_type": "code",
   "execution_count": 20,
   "metadata": {},
   "outputs": [
    {
     "name": "stdout",
     "output_type": "stream",
     "text": [
      "hello\n",
      "world\n"
     ]
    }
   ],
   "source": [
    "def f1():\n",
    "    print('hello')\n",
    "    def f2():\n",
    "        print('world')\n",
    "    f2()\n",
    "\n",
    "f1()"
   ]
  },
  {
   "cell_type": "code",
   "execution_count": 21,
   "metadata": {},
   "outputs": [
    {
     "name": "stdout",
     "output_type": "stream",
     "text": [
      "120\n"
     ]
    }
   ],
   "source": [
    "def factorial(input):\n",
    "    if not isinstance(input, int):\n",
    "        raise Exception('input must be integer')\n",
    "    if input < 0:\n",
    "        raise Exception('input must be greater or equal to 0')\n",
    "\n",
    "    def inner_factorial(input):\n",
    "        if input <= 1:\n",
    "            return 1\n",
    "        return input * inner_factorial(input-1)\n",
    "    \n",
    "    return inner_factorial(input)\n",
    "\n",
    "print(factorial(5))"
   ]
  },
  {
   "cell_type": "code",
   "execution_count": 22,
   "metadata": {},
   "outputs": [
    {
     "name": "stdout",
     "output_type": "stream",
     "text": [
      "inner:nonlocal\n",
      "outer:local\n"
     ]
    }
   ],
   "source": [
    "def outer():\n",
    "    x = 'local'\n",
    "    def inner():\n",
    "        # nonlocal x;\n",
    "        x = 'nonlocal'\n",
    "        print('inner:{}'.format(x))\n",
    "    \n",
    "    inner()\n",
    "    print('outer:{}'.format(x))\n",
    "\n",
    "outer()\n"
   ]
  },
  {
   "cell_type": "code",
   "execution_count": 26,
   "metadata": {},
   "outputs": [
    {
     "name": "stdout",
     "output_type": "stream",
     "text": [
      "25\n"
     ]
    }
   ],
   "source": [
    "square = lambda x: x**2\n",
    "print(square(5))\n",
    "\n",
    "[(lambda x: x**2) (x) for x in range(10)]\n"
   ]
  },
  {
   "cell_type": "code",
   "execution_count": 28,
   "metadata": {},
   "outputs": [
    {
     "name": "stdout",
     "output_type": "stream",
     "text": [
      "[(2, -1), (3, 0), (9, 10), (1, 20)]\n"
     ]
    }
   ],
   "source": [
    "l = [(1,20),(3,0),(9,10),(2,-1)]\n",
    "l.sort(key = lambda x: x[1])\n",
    "print(l)"
   ]
  },
  {
   "cell_type": "code",
   "execution_count": 4,
   "metadata": {},
   "outputs": [
    {
     "name": "stdout",
     "output_type": "stream",
     "text": [
      "[1, 4, 9, 16, 25]\n"
     ]
    }
   ],
   "source": [
    "square = map(lambda x:x**2, [1,2,3,4,5])\n",
    "print(list(square))"
   ]
  },
  {
   "cell_type": "code",
   "execution_count": 7,
   "metadata": {},
   "outputs": [
    {
     "name": "stdout",
     "output_type": "stream",
     "text": [
      "[2, 4, 6, 8, 10]\n"
     ]
    }
   ],
   "source": [
    "l = [1,2,3,4,5]\n",
    "new_list = map(lambda x: x*2, l)\n",
    "print(list(new_list))"
   ]
  },
  {
   "cell_type": "code",
   "execution_count": 10,
   "metadata": {},
   "outputs": [
    {
     "name": "stdout",
     "output_type": "stream",
     "text": [
      "[2, 4]\n",
      "[False, True, False, True, False]\n",
      "120\n"
     ]
    }
   ],
   "source": [
    "from functools import reduce\n",
    "l = [1,2,3,4,5]\n",
    "new_list = filter(lambda x: x%2 ==0,l)\n",
    "print(list(new_list))\n",
    "new_list2 = map(lambda x: x%2 ==0,l)\n",
    "print(list(new_list2))\n",
    "new_list3 = reduce(lambda x,y: x*y,l)\n",
    "print(new_list3)"
   ]
  },
  {
   "cell_type": "code",
   "execution_count": 15,
   "metadata": {},
   "outputs": [
    {
     "name": "stdout",
     "output_type": "stream",
     "text": [
      "[('lucy', 2), ('mike', 10), ('ben', 30)]\n",
      "[('mike', 10), ('lucy', 2), ('ben', 30)]\n"
     ]
    }
   ],
   "source": [
    "d = {'mike':10,'lucy':2,'ben':30}\n",
    "print(sorted(d.items(),key = lambda x:x[1]))\n",
    "\n",
    "print(list(d.items()))"
   ]
  },
  {
   "cell_type": "code",
   "execution_count": 21,
   "metadata": {},
   "outputs": [
    {
     "name": "stdout",
     "output_type": "stream",
     "text": [
      "init function called\n",
      "77\n",
      "10\n",
      "init function called\n",
      "7\n",
      "Welcome! The contect for book is indeed nothing\n"
     ]
    }
   ],
   "source": [
    "class Document():\n",
    "    \n",
    "    WELCOME_STR = 'Welcome! The contect for book is {}'\n",
    "    \n",
    "    def __init__(self,title,author,content):\n",
    "        print('init function called')\n",
    "        self.title = title\n",
    "        self.author = author\n",
    "        self.__content = content\n",
    "        \n",
    "    \n",
    "    def intercept_content(self,lenght):\n",
    "        self.__content = self.__content[:lenght]\n",
    "        \n",
    "    def get_context_lenght(self):\n",
    "        return len(self.__content)\n",
    "    \n",
    "    @classmethod\n",
    "    def create_empty_book(cls,title,author):\n",
    "        return cls(title = title,author = author,content = 'nothing')\n",
    "    \n",
    "    \n",
    "    @staticmethod\n",
    "    def get_welcome_str(context):\n",
    "        return Document.WELCOME_STR.format(context)\n",
    "    \n",
    "harry_potter_book = Document('Harry Potter', 'J. K. Rowling', '... Forever Do not believe any thing is capable of thinking independently ...')\n",
    "print(harry_potter_book.get_context_lenght())\n",
    "harry_potter_book.intercept_content(10)\n",
    "print(harry_potter_book.get_context_lenght())\n",
    "\n",
    "empty_book = Document.create_empty_book('What Every Man Thinks About Apart from Sex', 'Professor Sheridan Simove')\n",
    "print(empty_book.get_context_lenght())\n",
    "\n",
    "print(Document.get_welcome_str('indeed nothing'))"
   ]
  },
  {
   "cell_type": "code",
   "execution_count": 29,
   "metadata": {},
   "outputs": [
    {
     "name": "stdout",
     "output_type": "stream",
     "text": [
      "Document class init called\n",
      "Harry Potter\n",
      "77\n"
     ]
    }
   ],
   "source": [
    "class Entity():\n",
    "    def __init__(self):\n",
    "        print('parent class init called')\n",
    "        \n",
    "    def get_context_lenght(self):\n",
    "        raise NotImplementedError('get_context_lenght is not implemented')  # raise error\n",
    "    \n",
    "    def print_title(self):\n",
    "        print(self.title)\n",
    "        \n",
    "class Document(Entity):\n",
    "    def __init__(self,title,author,content):\n",
    "        print('Document class init called')\n",
    "        #Entity.__init__(self,'document')\n",
    "        self.title = title\n",
    "        self.author = author\n",
    "        self.__content = content\n",
    "        \n",
    "    def get_context_lenght(self):\n",
    "        return len(self.__content)\n",
    "    \n",
    "harry_potter_book = Document('Harry Potter', 'J. K. Rowling', '... Forever Do not believe any thing is capable of thinking independently ...')\n",
    "harry_potter_book.print_title()\n",
    "print(harry_potter_book.get_context_lenght())"
   ]
  },
  {
   "cell_type": "code",
   "execution_count": 36,
   "metadata": {},
   "outputs": [
    {
     "name": "stdout",
     "output_type": "stream",
     "text": [
      "parent class init called\n",
      "Harry Potter\n"
     ]
    }
   ],
   "source": [
    "from abc import ABCMeta, abstractmethod\n",
    "\n",
    "class Entity(metaclass = ABCMeta):\n",
    "    def __init__(self):\n",
    "        print('parent class init called')\n",
    "    \n",
    "    @abstractmethod\n",
    "    def get_title(self):\n",
    "        pass\n",
    "    \n",
    "    @abstractmethod\n",
    "    def set_title(self,title):\n",
    "        pass\n",
    "    \n",
    "class Document(Entity):\n",
    "    def get_title(self):\n",
    "        return self.title\n",
    "    \n",
    "    def set_title(self, title):\n",
    "         self.title = title\n",
    "    \n",
    "document = Document()\n",
    "document.set_title('Harry Potter')\n",
    "print(document.get_title())"
   ]
  },
  {
   "cell_type": "code",
   "execution_count": 6,
   "metadata": {},
   "outputs": [
    {
     "name": "stdout",
     "output_type": "stream",
     "text": [
      "True\n",
      "4519627344\n",
      "4519627344\n",
      "True\n",
      "(1, 2, 3, [3, 4, 5])\n",
      "(1, 2, 3, [3, 4])\n",
      "False\n",
      "False\n",
      "True\n",
      "{'a': 10, 'b': 20}\n"
     ]
    }
   ],
   "source": [
    "a = 10\n",
    "b = 10\n",
    "\n",
    "print(a == b)\n",
    "\n",
    "print(id(a))\n",
    "\n",
    "print(id(b))\n",
    "\n",
    "t1 = (1,2,3,[3,4])\n",
    "t2 = (1,2,3,[3,4])\n",
    "print(t1 == t2)\n",
    "\n",
    "t1[-1].append(5)\n",
    "print(t1)\n",
    "print(t2)\n",
    "print (t1 == t2)\n",
    "\n",
    "l1 = [1,2,3]\n",
    "l2 = [1,2,3]\n",
    "l3 = l2\n",
    "print(l1 is l2)\n",
    "print(l2 is l3)\n",
    "\n",
    "def func(d):\n",
    "    d['a'] = 10\n",
    "    d['b'] = 20\n",
    "\n",
    "d = {'a':1,'b':2}\n",
    "func(d)\n",
    "print(d)"
   ]
  },
  {
   "cell_type": "code",
   "execution_count": 9,
   "metadata": {},
   "outputs": [
    {
     "name": "stdout",
     "output_type": "stream",
     "text": [
      "Got a message:hello root message\n"
     ]
    }
   ],
   "source": [
    "def func(message):\n",
    "    return('Got a message:{}'.format(message))\n",
    "    \n",
    "send_message = func\n",
    "send_message('hello')\n",
    "\n",
    "def root_call(func,message):\n",
    "    print(func(message))\n",
    "    \n",
    "root_call(send_message,'hello root message')"
   ]
  },
  {
   "cell_type": "code",
   "execution_count": 10,
   "metadata": {},
   "outputs": [
    {
     "name": "stdout",
     "output_type": "stream",
     "text": [
      "before\n",
      "hello\n",
      "after\n"
     ]
    }
   ],
   "source": [
    "def my_decorator(func):\n",
    "    def wrapper():\n",
    "        print('before')\n",
    "        func()\n",
    "        print('after')\n",
    "    return wrapper\n",
    "\n",
    "def greet():\n",
    "    print('hello') \n",
    "    \n",
    "greet = my_decorator(greet)\n",
    "greet()"
   ]
  }
 ],
 "metadata": {
  "interpreter": {
   "hash": "aee8b7b246df8f9039afb4144a1f6fd8d2ca17a180786b69acc140d282b71a49"
  },
  "kernelspec": {
   "display_name": "Python 3.9.7 64-bit",
   "name": "python3"
  },
  "language_info": {
   "codemirror_mode": {
    "name": "ipython",
    "version": 3
   },
   "file_extension": ".py",
   "mimetype": "text/x-python",
   "name": "python",
   "nbconvert_exporter": "python",
   "pygments_lexer": "ipython3",
   "version": "3.9.7"
  },
  "metadata": {
   "interpreter": {
    "hash": "4cd7ab41f5fca4b9b44701077e38c5ffd31fe66a6cab21e0214b68d958d0e462"
   }
  },
  "orig_nbformat": 4
 },
 "nbformat": 4,
 "nbformat_minor": 2
}
