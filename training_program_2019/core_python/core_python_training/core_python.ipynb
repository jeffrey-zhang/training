{
 "cells": [
  {
   "cell_type": "code",
   "execution_count": 2,
   "metadata": {
    "tags": []
   },
   "outputs": [
    {
     "output_type": "stream",
     "name": "stdout",
     "text": "[('a', 2), ('b', 1), ('c', 10)]\n[('b', 1), ('a', 2), ('c', 10)]\n"
    }
   ],
   "source": [
    "d = {'b':1, 'a':2, 'c':10}\n",
    "d_sorted_by_key = sorted(d.items(), key = lambda x:x[0])\n",
    "d_sorted_by_value = sorted(d.items(), key = lambda x:x[1])\n",
    "print(d_sorted_by_key)\n",
    "print(d_sorted_by_value)"
   ]
  },
  {
   "cell_type": "code",
   "execution_count": 3,
   "metadata": {},
   "outputs": [
    {
     "output_type": "execute_result",
     "data": {
      "text/plain": "[1, 2, 3, 4]"
     },
     "metadata": {},
     "execution_count": 3
    }
   ],
   "source": [
    "s = {3,4,2,1}\n",
    "sorted(s)"
   ]
  },
  {
   "cell_type": "code",
   "execution_count": 5,
   "metadata": {
    "tags": []
   },
   "outputs": [
    {
     "output_type": "stream",
     "name": "stdout",
     "text": "The price of product 432314553 is 30\n"
    }
   ],
   "source": [
    "def find_product_price(products, product_id):\n",
    "    for id, price in products:\n",
    "        if id == product_id:\n",
    "            return price\n",
    "    return None\n",
    "\n",
    "products = [\n",
    "    (143121312,100),\n",
    "    (432314553,30),\n",
    "    (32421912367,150)\n",
    "]\n",
    "print('The price of product 432314553 is {}'.format(find_product_price(products,432314553)))"
   ]
  },
  {
   "cell_type": "code",
   "execution_count": 7,
   "metadata": {
    "tags": []
   },
   "outputs": [
    {
     "output_type": "stream",
     "name": "stdout",
     "text": "Time elaspe using list:92.9537444560001\nTime elaspe using set:0.0224792989999969\n"
    }
   ],
   "source": [
    "import time\n",
    "id = [x for x in range(0,100000)]\n",
    "price = [x for x in range(200000,300000)]\n",
    "products = list(zip(id,price))\n",
    "\n",
    "def find_unique_price_using_list(products): \n",
    "    unique_price_list = [] \n",
    "    for _, price in products: # A \n",
    "        if price not in unique_price_list: #B \n",
    "            unique_price_list.append(price) \n",
    "    return len(unique_price_list)\n",
    "\n",
    "def find_unique_price_using_set(products): \n",
    "    unique_price_set = set() \n",
    "    for _, price in products: \n",
    "        unique_price_set.add(price) \n",
    "    return len(unique_price_set)\n",
    "\n",
    "start_using_list = time.perf_counter()\n",
    "find_unique_price_using_list(products)\n",
    "end_using_list = time.perf_counter()\n",
    "print('Time elaspe using list:{}'.format(end_using_list - start_using_list))\n",
    "\n",
    "start_using_set = time.perf_counter()\n",
    "find_unique_price_using_set(products)\n",
    "end_using_set = time.perf_counter()\n",
    "print('Time elaspe using set:{}'.format(end_using_set-start_using_set))\n",
    "\n"
   ]
  },
  {
   "cell_type": "code",
   "execution_count": null,
   "metadata": {},
   "outputs": [],
   "source": [
    "import time\n",
    "start_time1 = time.perf_counter()\n",
    "d = {'name':'jason','age':20,'gender':'male'}\n",
    "end_time1 = time.perf_counter()\n",
    "print('Time of init direct:{}'.format(end_time1 - start_time1))\n",
    "\n",
    "start_time2 = time.perf_counter()\n",
    "d = dict({'name':'jason','age':20,'gender':'male'})\n",
    "end_time2 = time.perf_counter()\n",
    "print('Time of init using dict:{}'.format(end_time2 - start_time2))"
   ]
  },
  {
   "cell_type": "code",
   "execution_count": null,
   "metadata": {},
   "outputs": [],
   "source": []
  }
 ],
 "metadata": {
  "language_info": {
   "codemirror_mode": {
    "name": "ipython",
    "version": 3
   },
   "file_extension": ".py",
   "mimetype": "text/x-python",
   "name": "python",
   "nbconvert_exporter": "python",
   "pygments_lexer": "ipython3",
   "version": "3.7.7-final"
  },
  "orig_nbformat": 2,
  "kernelspec": {
   "name": "python37764bitadf1d35b261f4483b10d26b2125f99d6",
   "display_name": "Python 3.7.7 64-bit"
  }
 },
 "nbformat": 4,
 "nbformat_minor": 2
}